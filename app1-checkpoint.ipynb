{
 "cells": [
  {
   "cell_type": "code",
   "execution_count": 1,
   "id": "254e4920",
   "metadata": {},
   "outputs": [
    {
     "name": "stderr",
     "output_type": "stream",
     "text": [
      "c:\\Users\\ANT pc\\Downloads\\Internship at Ask Junior.ai\\Projects\\finance-projects\\financebench\\rag_env\\lib\\site-packages\\pypdf\\_crypt_providers\\_cryptography.py:32: CryptographyDeprecationWarning: ARC4 has been moved to cryptography.hazmat.decrepit.ciphers.algorithms.ARC4 and will be removed from cryptography.hazmat.primitives.ciphers.algorithms in 48.0.0.\n",
      "  from cryptography.hazmat.primitives.ciphers.algorithms import AES, ARC4\n"
     ]
    }
   ],
   "source": [
    "import os\n",
    "from concurrent.futures import ThreadPoolExecutor\n",
    "from dotenv import load_dotenv\n",
    "from pypdf import PdfReader\n",
    "import fitz  # PyMuPDF\n",
    "import pytesseract  # OCR\n",
    "from PIL import Image\n",
    "import tabula  # For reading tables from PDFs\n",
    "import camelot  # For structured table extraction\n",
    "from langchain.text_splitter import RecursiveCharacterTextSplitter\n",
    "import chromadb\n",
    "from chromadb.utils import embedding_functions\n",
    "from openai import OpenAI\n",
    "\n",
    "# Load environment variables\n",
    "load_dotenv()\n",
    "openai_key = os.getenv(\"OPENAI_API_KEY\")\n",
    "if not openai_key:\n",
    "    raise ValueError(\"OPENAI_API_KEY not found in .env file\")\n",
    "\n",
    "# Initialize ChromaDB\n",
    "openai_ef = embedding_functions.OpenAIEmbeddingFunction(\n",
    "    api_key=openai_key, model_name=\"text-embedding-ada-002\"\n",
    ")\n",
    "chroma_client = chromadb.PersistentClient(path=\"chroma_persistent_storage\")\n",
    "collection_name = \"document_qa_collection\"\n",
    "\n",
    "# Reset the collection to avoid clutter\n",
    "if collection_name in chroma_client.list_collections():\n",
    "    chroma_client.delete_collection(name=collection_name)\n",
    "\n",
    "collection = chroma_client.get_or_create_collection(\n",
    "    name=collection_name, embedding_function=openai_ef\n",
    ")\n",
    "\n",
    "client = OpenAI(api_key=openai_key)\n",
    "\n",
    "# Helper function to extract text from tables\n",
    "def extract_tables_from_pdf(file_path):\n",
    "    try:\n",
    "        # Extract tables using Camelot\n",
    "        tables = camelot.read_pdf(file_path, pages=\"all\", flavor=\"stream\")\n",
    "        table_text = \"\"\n",
    "        for table in tables:\n",
    "            table_text += table.df.to_string(index=False, header=False) + \"\\n\"\n",
    "        if table_text.strip():\n",
    "            return table_text\n",
    "    except Exception as e:\n",
    "        print(f\"[Camelot Error] {file_path}: {e}\")\n",
    "    try:\n",
    "        # Extract tables using Tabula as a fallback\n",
    "        tables = tabula.read_pdf(file_path, pages=\"all\", multiple_tables=True)\n",
    "        table_text = \"\"\n",
    "        for df in tables:\n",
    "            table_text += df.to_string(index=False, header=False) + \"\\n\"\n",
    "        return table_text\n",
    "    except Exception as e:\n",
    "        print(f\"[Tabula Error] {file_path}: {e}\")\n",
    "    return \"\"\n",
    "\n",
    "# General text extraction function\n",
    "def extract_text_from_pdf(file_path):\n",
    "    text = \"\"\n",
    "\n",
    "    # Try extracting text using PyPDF\n",
    "    try:\n",
    "        reader = PdfReader(file_path)\n",
    "        for page in reader.pages:\n",
    "            text += page.extract_text() or \"\"\n",
    "        if text.strip():\n",
    "            return text\n",
    "    except Exception as e:\n",
    "        print(f\"[PyPDF Error] {file_path}: {e}\")\n",
    "\n",
    "    # Fallback to PyMuPDF\n",
    "    try:\n",
    "        with fitz.open(file_path) as pdf:\n",
    "            for page in pdf:\n",
    "                text += page.get_text()\n",
    "            if text.strip():\n",
    "                return text\n",
    "    except Exception as e:\n",
    "        print(f\"[PyMuPDF Error] {file_path}: {e}\")\n",
    "\n",
    "    return text\n"
   ]
  },
  {
   "cell_type": "code",
   "execution_count": 2,
   "id": "777a45b2",
   "metadata": {},
   "outputs": [
    {
     "name": "stdout",
     "output_type": "stream",
     "text": [
      "Processing file: ../pdfs1\\3M_2015_10K.pdf\n"
     ]
    },
    {
     "name": "stderr",
     "output_type": "stream",
     "text": [
      "c:\\Users\\ANT pc\\Downloads\\Internship at Ask Junior.ai\\Projects\\finance-projects\\financebench\\rag_env\\lib\\site-packages\\camelot\\parsers\\base.py:238: UserWarning: No tables found in table area (0, 0, 612, 792)\n",
      "  cols, rows, v_s, h_s = self._generate_columns_and_rows(bbox, user_cols)\n",
      "c:\\Users\\ANT pc\\Downloads\\Internship at Ask Junior.ai\\Projects\\finance-projects\\financebench\\rag_env\\lib\\site-packages\\camelot\\parsers\\base.py:238: UserWarning: No tables found in table area (71.30000084975, 306.6127851004009, 531.3281569001372, 810.6173373475091)\n",
      "  cols, rows, v_s, h_s = self._generate_columns_and_rows(bbox, user_cols)\n",
      "c:\\Users\\ANT pc\\Downloads\\Internship at Ask Junior.ai\\Projects\\finance-projects\\financebench\\rag_env\\lib\\site-packages\\camelot\\parsers\\base.py:238: UserWarning: No tables found in table area (71.30000084975, 324.61278981265076, 527.9625318538597, 810.6127963576512)\n",
      "  cols, rows, v_s, h_s = self._generate_columns_and_rows(bbox, user_cols)\n",
      "c:\\Users\\ANT pc\\Downloads\\Internship at Ask Junior.ai\\Projects\\finance-projects\\financebench\\rag_env\\lib\\site-packages\\camelot\\parsers\\base.py:238: UserWarning: No tables found in table area (71.30000084975, 279.61278615865075, 528.7906818652467, 810.6220956481101)\n",
      "  cols, rows, v_s, h_s = self._generate_columns_and_rows(bbox, user_cols)\n",
      "c:\\Users\\ANT pc\\Downloads\\Internship at Ask Junior.ai\\Projects\\finance-projects\\financebench\\rag_env\\lib\\site-packages\\camelot\\parsers\\base.py:238: UserWarning: No tables found in table area (71.30000084975, 306.61278938890035, 530.5663818896626, 810.617341636009)\n",
      "  cols, rows, v_s, h_s = self._generate_columns_and_rows(bbox, user_cols)\n",
      "c:\\Users\\ANT pc\\Downloads\\Internship at Ask Junior.ai\\Projects\\finance-projects\\financebench\\rag_env\\lib\\site-packages\\camelot\\parsers\\base.py:238: UserWarning: No tables found in table area (71.30000084975, 324.6127566011507, 529.422631873936, 810.6127631461507)\n",
      "  cols, rows, v_s, h_s = self._generate_columns_and_rows(bbox, user_cols)\n",
      "c:\\Users\\ANT pc\\Downloads\\Internship at Ask Junior.ai\\Projects\\finance-projects\\financebench\\rag_env\\lib\\site-packages\\camelot\\parsers\\base.py:238: UserWarning: No tables found in table area (0, 0, 612, 792)\n",
      "  cols, rows, v_s, h_s = self._generate_columns_and_rows(bbox, user_cols)\n",
      "c:\\Users\\ANT pc\\Downloads\\Internship at Ask Junior.ai\\Projects\\finance-projects\\financebench\\rag_env\\lib\\site-packages\\camelot\\parsers\\base.py:238: UserWarning: No tables found in table area (71.30000084975, 297.6127680184015, 531.1896318982323, 810.6042642962368)\n",
      "  cols, rows, v_s, h_s = self._generate_columns_and_rows(bbox, user_cols)\n",
      "c:\\Users\\ANT pc\\Downloads\\Internship at Ask Junior.ai\\Projects\\finance-projects\\financebench\\rag_env\\lib\\site-packages\\camelot\\parsers\\base.py:238: UserWarning: No tables found in table area (71.30000084974998, 387.6127587206499, 531.6445069044868, 810.6699072573283)\n",
      "  cols, rows, v_s, h_s = self._generate_columns_and_rows(bbox, user_cols)\n",
      "c:\\Users\\ANT pc\\Downloads\\Internship at Ask Junior.ai\\Projects\\finance-projects\\financebench\\rag_env\\lib\\site-packages\\camelot\\parsers\\base.py:238: UserWarning: No tables found in table area (71.30000084974998, 432.6127382689007, 529.0719318691139, 810.6854706026269)\n",
      "  cols, rows, v_s, h_s = self._generate_columns_and_rows(bbox, user_cols)\n",
      "c:\\Users\\ANT pc\\Downloads\\Internship at Ask Junior.ai\\Projects\\finance-projects\\financebench\\rag_env\\lib\\site-packages\\camelot\\parsers\\base.py:238: UserWarning: No tables found in table area (71.30000084975, 441.61280536390376, 529.887931880334, 809.6461436201946)\n",
      "  cols, rows, v_s, h_s = self._generate_columns_and_rows(bbox, user_cols)\n",
      "c:\\Users\\ANT pc\\Downloads\\Internship at Ask Junior.ai\\Projects\\finance-projects\\financebench\\rag_env\\lib\\site-packages\\camelot\\parsers\\base.py:238: UserWarning: No tables found in table area (71.30000084975, 351.6127830559014, 530.8195068931431, 810.627074944135)\n",
      "  cols, rows, v_s, h_s = self._generate_columns_and_rows(bbox, user_cols)\n",
      "c:\\Users\\ANT pc\\Downloads\\Internship at Ask Junior.ai\\Projects\\finance-projects\\financebench\\rag_env\\lib\\site-packages\\camelot\\parsers\\base.py:238: UserWarning: No tables found in table area (71.30000084975, 306.6127613666501, 528.054556855125, 810.6173136137569)\n",
      "  cols, rows, v_s, h_s = self._generate_columns_and_rows(bbox, user_cols)\n",
      "c:\\Users\\ANT pc\\Downloads\\Internship at Ask Junior.ai\\Projects\\finance-projects\\financebench\\rag_env\\lib\\site-packages\\camelot\\parsers\\base.py:238: UserWarning: No tables found in table area (71.30000084975, 288.6127939781506, 530.2146318848261, 810.61734647276)\n",
      "  cols, rows, v_s, h_s = self._generate_columns_and_rows(bbox, user_cols)\n",
      "c:\\Users\\ANT pc\\Downloads\\Internship at Ask Junior.ai\\Projects\\finance-projects\\financebench\\rag_env\\lib\\site-packages\\camelot\\parsers\\base.py:238: UserWarning: No tables found in table area (0, 0, 612, 792)\n",
      "  cols, rows, v_s, h_s = self._generate_columns_and_rows(bbox, user_cols)\n",
      "c:\\Users\\ANT pc\\Downloads\\Internship at Ask Junior.ai\\Projects\\finance-projects\\financebench\\rag_env\\lib\\site-packages\\camelot\\parsers\\base.py:238: UserWarning: No tables found in table area (0, 0, 612, 792)\n",
      "  cols, rows, v_s, h_s = self._generate_columns_and_rows(bbox, user_cols)\n",
      "c:\\Users\\ANT pc\\Downloads\\Internship at Ask Junior.ai\\Projects\\finance-projects\\financebench\\rag_env\\lib\\site-packages\\camelot\\parsers\\base.py:238: UserWarning: No tables found in table area (71.30000084975, 307.3425911799901, 529.47745687469, 808.0010480648607)\n",
      "  cols, rows, v_s, h_s = self._generate_columns_and_rows(bbox, user_cols)\n",
      "c:\\Users\\ANT pc\\Downloads\\Internship at Ask Junior.ai\\Projects\\finance-projects\\financebench\\rag_env\\lib\\site-packages\\camelot\\parsers\\base.py:238: UserWarning: No tables found in table area (71.30000084975, 306.6127967321442, 530.7445068921119, 810.6128035246504)\n",
      "  cols, rows, v_s, h_s = self._generate_columns_and_rows(bbox, user_cols)\n",
      "c:\\Users\\ANT pc\\Downloads\\Internship at Ask Junior.ai\\Projects\\finance-projects\\financebench\\rag_env\\lib\\site-packages\\camelot\\parsers\\base.py:238: UserWarning: No tables found in table area (71.30000084975, 306.61278619689955, 530.562181889605, 810.6084451632589)\n",
      "  cols, rows, v_s, h_s = self._generate_columns_and_rows(bbox, user_cols)\n",
      "c:\\Users\\ANT pc\\Downloads\\Internship at Ask Junior.ai\\Projects\\finance-projects\\financebench\\rag_env\\lib\\site-packages\\camelot\\parsers\\base.py:238: UserWarning: No tables found in table area (71.30000084975, 279.61277529039916, 530.56255688961, 810.6127824541464)\n",
      "  cols, rows, v_s, h_s = self._generate_columns_and_rows(bbox, user_cols)\n",
      "c:\\Users\\ANT pc\\Downloads\\Internship at Ask Junior.ai\\Projects\\finance-projects\\financebench\\rag_env\\lib\\site-packages\\camelot\\parsers\\base.py:238: UserWarning: No tables found in table area (71.30000084975, 306.6128295911546, 530.5708818897245, 810.6128363836534)\n",
      "  cols, rows, v_s, h_s = self._generate_columns_and_rows(bbox, user_cols)\n",
      "c:\\Users\\ANT pc\\Downloads\\Internship at Ask Junior.ai\\Projects\\finance-projects\\financebench\\rag_env\\lib\\site-packages\\camelot\\parsers\\base.py:238: UserWarning: No tables found in table area (71.30000084975, 288.6128188084037, 530.5531818894812, 810.6003258482297)\n",
      "  cols, rows, v_s, h_s = self._generate_columns_and_rows(bbox, user_cols)\n",
      "c:\\Users\\ANT pc\\Downloads\\Internship at Ask Junior.ai\\Projects\\finance-projects\\financebench\\rag_env\\lib\\site-packages\\camelot\\parsers\\base.py:238: UserWarning: No tables found in table area (71.30000084974998, 315.61278757389636, 529.2215568711714, 810.6435634738453)\n",
      "  cols, rows, v_s, h_s = self._generate_columns_and_rows(bbox, user_cols)\n",
      "c:\\Users\\ANT pc\\Downloads\\Internship at Ask Junior.ai\\Projects\\finance-projects\\financebench\\rag_env\\lib\\site-packages\\camelot\\parsers\\base.py:238: UserWarning: No tables found in table area (71.30000084974998, 396.61277815240436, 528.7906818652467, 810.6855109811285)\n",
      "  cols, rows, v_s, h_s = self._generate_columns_and_rows(bbox, user_cols)\n",
      "c:\\Users\\ANT pc\\Downloads\\Internship at Ask Junior.ai\\Projects\\finance-projects\\financebench\\rag_env\\lib\\site-packages\\camelot\\parsers\\base.py:238: UserWarning: No tables found in table area (0, 0, 612, 792)\n",
      "  cols, rows, v_s, h_s = self._generate_columns_and_rows(bbox, user_cols)\n",
      "c:\\Users\\ANT pc\\Downloads\\Internship at Ask Junior.ai\\Projects\\finance-projects\\financebench\\rag_env\\lib\\site-packages\\camelot\\parsers\\base.py:238: UserWarning: No tables found in table area (71.30000084975, 306.6128333509038, 530.56255688961, 810.6173855980106)\n",
      "  cols, rows, v_s, h_s = self._generate_columns_and_rows(bbox, user_cols)\n",
      "c:\\Users\\ANT pc\\Downloads\\Internship at Ask Junior.ai\\Projects\\finance-projects\\financebench\\rag_env\\lib\\site-packages\\camelot\\parsers\\base.py:238: UserWarning: No tables found in table area (71.30000084974998, 359.4128142596598, 530.3469318866452, 810.643589557353)\n",
      "  cols, rows, v_s, h_s = self._generate_columns_and_rows(bbox, user_cols)\n",
      "c:\\Users\\ANT pc\\Downloads\\Internship at Ask Junior.ai\\Projects\\finance-projects\\financebench\\rag_env\\lib\\site-packages\\camelot\\parsers\\base.py:238: UserWarning: No tables found in table area (71.30000084975, 345.0128035264058, 530.5382568892759, 810.4859805208577)\n",
      "  cols, rows, v_s, h_s = self._generate_columns_and_rows(bbox, user_cols)\n",
      "c:\\Users\\ANT pc\\Downloads\\Internship at Ask Junior.ai\\Projects\\finance-projects\\financebench\\rag_env\\lib\\site-packages\\camelot\\parsers\\base.py:238: UserWarning: No tables found in table area (71.30000084974998, 522.612828292156, 529.6906818776217, 808.0611371643126)\n",
      "  cols, rows, v_s, h_s = self._generate_columns_and_rows(bbox, user_cols)\n",
      "c:\\Users\\ANT pc\\Downloads\\Internship at Ask Junior.ai\\Projects\\finance-projects\\financebench\\rag_env\\lib\\site-packages\\camelot\\parsers\\base.py:238: UserWarning: No tables found in table area (71.30000084974998, 360.6125049941617, 529.859431879942, 810.6696539020923)\n",
      "  cols, rows, v_s, h_s = self._generate_columns_and_rows(bbox, user_cols)\n",
      "c:\\Users\\ANT pc\\Downloads\\Internship at Ask Junior.ai\\Projects\\finance-projects\\financebench\\rag_env\\lib\\site-packages\\camelot\\parsers\\base.py:238: UserWarning: No tables found in table area (0, 0, 612, 792)\n",
      "  cols, rows, v_s, h_s = self._generate_columns_and_rows(bbox, user_cols)\n",
      "c:\\Users\\ANT pc\\Downloads\\Internship at Ask Junior.ai\\Projects\\finance-projects\\financebench\\rag_env\\lib\\site-packages\\camelot\\parsers\\base.py:238: UserWarning: No tables found in table area (71.30000084975, 297.6124514516702, 529.9125318806723, 810.6124583679185)\n",
      "  cols, rows, v_s, h_s = self._generate_columns_and_rows(bbox, user_cols)\n",
      "c:\\Users\\ANT pc\\Downloads\\Internship at Ask Junior.ai\\Projects\\finance-projects\\financebench\\rag_env\\lib\\site-packages\\camelot\\parsers\\base.py:238: UserWarning: No tables found in table area (0, 0, 612, 792)\n",
      "  cols, rows, v_s, h_s = self._generate_columns_and_rows(bbox, user_cols)\n",
      "c:\\Users\\ANT pc\\Downloads\\Internship at Ask Junior.ai\\Projects\\finance-projects\\financebench\\rag_env\\lib\\site-packages\\camelot\\parsers\\base.py:238: UserWarning: No tables found in table area (71.30000084975, 297.6124303811518, 530.8014318928946, 810.6124372974148)\n",
      "  cols, rows, v_s, h_s = self._generate_columns_and_rows(bbox, user_cols)\n",
      "c:\\Users\\ANT pc\\Downloads\\Internship at Ask Junior.ai\\Projects\\finance-projects\\financebench\\rag_env\\lib\\site-packages\\camelot\\parsers\\base.py:238: UserWarning: No tables found in table area (71.30000084975, 279.61241959838634, 530.3094318861296, 810.6039161237188)\n",
      "  cols, rows, v_s, h_s = self._generate_columns_and_rows(bbox, user_cols)\n",
      "c:\\Users\\ANT pc\\Downloads\\Internship at Ask Junior.ai\\Projects\\finance-projects\\financebench\\rag_env\\lib\\site-packages\\camelot\\parsers\\base.py:238: UserWarning: No tables found in table area (71.30000084975, 297.61240931064793, 530.1632568841196, 810.6124162268962)\n",
      "  cols, rows, v_s, h_s = self._generate_columns_and_rows(bbox, user_cols)\n",
      "c:\\Users\\ANT pc\\Downloads\\Internship at Ask Junior.ai\\Projects\\finance-projects\\financebench\\rag_env\\lib\\site-packages\\camelot\\parsers\\base.py:238: UserWarning: No tables found in table area (0, 0, 612, 792)\n",
      "  cols, rows, v_s, h_s = self._generate_columns_and_rows(bbox, user_cols)\n",
      "c:\\Users\\ANT pc\\Downloads\\Internship at Ask Junior.ai\\Projects\\finance-projects\\financebench\\rag_env\\lib\\site-packages\\camelot\\parsers\\base.py:238: UserWarning: No tables found in table area (71.30000084975, 387.6123894776535, 528.8250318657192, 810.6123951563924)\n",
      "  cols, rows, v_s, h_s = self._generate_columns_and_rows(bbox, user_cols)\n",
      "c:\\Users\\ANT pc\\Downloads\\Internship at Ask Junior.ai\\Projects\\finance-projects\\financebench\\rag_env\\lib\\site-packages\\camelot\\parsers\\base.py:238: UserWarning: No tables found in table area (71.30000084975, 315.61237795240567, 529.5778068760698, 810.6216869468644)\n",
      "  cols, rows, v_s, h_s = self._generate_columns_and_rows(bbox, user_cols)\n",
      "c:\\Users\\ANT pc\\Downloads\\Internship at Ask Junior.ai\\Projects\\finance-projects\\financebench\\rag_env\\lib\\site-packages\\camelot\\parsers\\base.py:238: UserWarning: No tables found in table area (0, 0, 612, 792)\n",
      "  cols, rows, v_s, h_s = self._generate_columns_and_rows(bbox, user_cols)\n",
      "c:\\Users\\ANT pc\\Downloads\\Internship at Ask Junior.ai\\Projects\\finance-projects\\financebench\\rag_env\\lib\\site-packages\\camelot\\parsers\\base.py:238: UserWarning: No tables found in table area (0, 0, 612, 792)\n",
      "  cols, rows, v_s, h_s = self._generate_columns_and_rows(bbox, user_cols)\n",
      "c:\\Users\\ANT pc\\Downloads\\Internship at Ask Junior.ai\\Projects\\finance-projects\\financebench\\rag_env\\lib\\site-packages\\camelot\\parsers\\base.py:238: UserWarning: No tables found in table area (71.30000084974999, 438.6127897744006, 529.2358068713672, 801.6042839897357)\n",
      "  cols, rows, v_s, h_s = self._generate_columns_and_rows(bbox, user_cols)\n",
      "c:\\Users\\ANT pc\\Downloads\\Internship at Ask Junior.ai\\Projects\\finance-projects\\financebench\\rag_env\\lib\\site-packages\\camelot\\parsers\\base.py:238: UserWarning: No tables found in table area (71.30000084974999, 636.6127503559015, 528.2458818577558, 801.5858294098578)\n",
      "  cols, rows, v_s, h_s = self._generate_columns_and_rows(bbox, user_cols)\n",
      "c:\\Users\\ANT pc\\Downloads\\Internship at Ask Junior.ai\\Projects\\finance-projects\\financebench\\rag_env\\lib\\site-packages\\camelot\\parsers\\base.py:238: UserWarning: No tables found in table area (71.30000084975, 528.6127910119009, 530.1163818834751, 801.557955917719)\n",
      "  cols, rows, v_s, h_s = self._generate_columns_and_rows(bbox, user_cols)\n",
      "c:\\Users\\ANT pc\\Downloads\\Internship at Ask Junior.ai\\Projects\\finance-projects\\financebench\\rag_env\\lib\\site-packages\\camelot\\parsers\\base.py:238: UserWarning: No tables found in table area (0, 0, 612, 792)\n",
      "  cols, rows, v_s, h_s = self._generate_columns_and_rows(bbox, user_cols)\n",
      "c:\\Users\\ANT pc\\Downloads\\Internship at Ask Junior.ai\\Projects\\finance-projects\\financebench\\rag_env\\lib\\site-packages\\camelot\\parsers\\base.py:238: UserWarning: No tables found in table area (71.30000084975, 652.8127914664009, 526.7250318368442, 779.8127930751513)\n",
      "  cols, rows, v_s, h_s = self._generate_columns_and_rows(bbox, user_cols)\n"
     ]
    },
    {
     "name": "stdout",
     "output_type": "stream",
     "text": [
      "Embeddings created for all documents!\n"
     ]
    }
   ],
   "source": [
    "# Function to process documents\n",
    "def load_and_process_document(file_path):\n",
    "    print(f\"Processing file: {file_path}\")\n",
    "    # Extract general text and table data\n",
    "    text = extract_text_from_pdf(file_path)\n",
    "    tables = extract_tables_from_pdf(file_path)\n",
    "    combined_text = text + \"\\n\" + tables\n",
    "    return {\"id\": os.path.basename(file_path), \"text\": combined_text}\n",
    "\n",
    "# Function to split text into chunks\n",
    "def chunk_text(text, chunk_size=500, chunk_overlap=100):\n",
    "    splitter = RecursiveCharacterTextSplitter(\n",
    "        chunk_size=chunk_size, chunk_overlap=chunk_overlap\n",
    "    )\n",
    "    return splitter.split_text(text)\n",
    "\n",
    "# Function to generate embeddings\n",
    "def generate_and_store_embeddings(doc):\n",
    "    chunks = chunk_text(doc[\"text\"])\n",
    "    embeddings = [\n",
    "        {\n",
    "            \"id\": f\"{doc['id']}_chunk{i}\",\n",
    "            \"text\": chunk,\n",
    "            \"embedding\": client.embeddings.create(input=chunk, model=\"text-embedding-ada-002\").data[0].embedding,\n",
    "        }\n",
    "        for i, chunk in enumerate(chunks)\n",
    "    ]\n",
    "    for embedding in embeddings:\n",
    "        collection.upsert(\n",
    "            ids=[embedding[\"id\"]],\n",
    "            documents=[embedding[\"text\"]],\n",
    "            embeddings=[embedding[\"embedding\"]],\n",
    "        )\n",
    "\n",
    "# Process all PDFs in parallel\n",
    "directory_path = \"../pdfs1\"\n",
    "pdf_files = [\n",
    "    os.path.join(directory_path, f) for f in os.listdir(directory_path) if f.endswith(\".pdf\")\n",
    "]\n",
    "\n",
    "with ThreadPoolExecutor() as executor:\n",
    "    documents = list(executor.map(load_and_process_document, pdf_files))\n",
    "\n",
    "with ThreadPoolExecutor() as executor:\n",
    "    executor.map(generate_and_store_embeddings, documents)\n",
    "\n",
    "print(\"Embeddings created for all documents!\")\n"
   ]
  },
  {
   "cell_type": "code",
   "execution_count": 3,
   "id": "57cc57eb",
   "metadata": {},
   "outputs": [],
   "source": [
    "def query_documents(question, n_results=5):\n",
    "    results = collection.query(query_texts=[question], n_results=n_results)\n",
    "    retrieved_chunks = list(set(results[\"documents\"][0]))  # Deduplicate chunks\n",
    "    return retrieved_chunks\n",
    "\n",
    "def generate_response(question, relevant_chunks):\n",
    "    context = \"\\n\\n\".join(relevant_chunks)\n",
    "    prompt = (\n",
    "        \"You are a financial assistant. Use the following context to answer the question. \"\n",
    "        \"If the answer is unclear, say 'I don't know.'\\n\\n\"\n",
    "        f\"Context:\\n{context}\\n\\nQuestion: {question}\"\n",
    "    )\n",
    "    response = client.chat.completions.create(\n",
    "        model=\"gpt-3.5-turbo\",\n",
    "        messages=[\n",
    "            {\"role\": \"system\", \"content\": prompt},\n",
    "            {\"role\": \"user\", \"content\": question},\n",
    "        ],\n",
    "    )\n",
    "    return response.choices[0].message.content\n"
   ]
  },
  {
   "cell_type": "code",
   "execution_count": 4,
   "id": "c53216c0",
   "metadata": {},
   "outputs": [
    {
     "name": "stdout",
     "output_type": "stream",
     "text": [
      "\n",
      "Generated Answer:\n",
      "The Senior Vice President in Supply Chain for 3M is Paul A. Keel.\n"
     ]
    }
   ],
   "source": [
    "# Query example\n",
    "question = \"Who is the senior vice president in Supply Chain in 3M?\"\n",
    "relevant_chunks = query_documents(question, n_results=5)\n",
    "\n",
    "answer = generate_response(question, relevant_chunks)\n",
    "\n",
    "print(\"\\nGenerated Answer:\")\n",
    "print(answer)\n"
   ]
  },
  {
   "cell_type": "code",
   "execution_count": 14,
   "id": "2879352f",
   "metadata": {},
   "outputs": [
    {
     "name": "stdout",
     "output_type": "stream",
     "text": [
      "\n",
      "Generated Answer:\n",
      "Ashish Khandpur currently holds the position of Senior Vice President, Research and Development, and Chief Technology Officer.\n"
     ]
    }
   ],
   "source": [
    "# Query example\n",
    "question = \"What role is currently hold by Ashish Khandpur?\"\n",
    "relevant_chunks = query_documents(question, n_results=5)\n",
    "\n",
    "answer = generate_response(question, relevant_chunks)\n",
    "\n",
    "print(\"\\nGenerated Answer:\")\n",
    "print(answer)\n"
   ]
  },
  {
   "cell_type": "code",
   "execution_count": 5,
   "id": "2d1d1fbc",
   "metadata": {},
   "outputs": [
    {
     "name": "stdout",
     "output_type": "stream",
     "text": [
      "\n",
      "Generated Answer:\n",
      "The corporate research laboratories and certain division laboratories of 3M are located in St. Paul, Minnesota.\n"
     ]
    }
   ],
   "source": [
    "# Query example\n",
    "question = \"Where is the corporate research laboratories and division laboratories of 3M located?\"\n",
    "relevant_chunks = query_documents(question, n_results=5)\n",
    "answer = generate_response(question, relevant_chunks)\n",
    "\n",
    "print(\"\\nGenerated Answer:\")\n",
    "print(answer)\n"
   ]
  },
  {
   "cell_type": "code",
   "execution_count": 6,
   "id": "0323b961",
   "metadata": {},
   "outputs": [
    {
     "name": "stdout",
     "output_type": "stream",
     "text": [
      "\n",
      "Generated Answer:\n",
      "In the year 2015, 3M made net sales of $4.8 billion in the Consumer Segments.\n"
     ]
    }
   ],
   "source": [
    "# Query example\n",
    "question = \"How much money as net sales (in USD) did 3M make in Consumer Segments in the year 2015?\"\n",
    "relevant_chunks = query_documents(question, n_results=5)\n",
    "answer = generate_response(question, relevant_chunks)\n",
    "\n",
    "print(\"\\nGenerated Answer:\")\n",
    "print(answer)\n"
   ]
  },
  {
   "cell_type": "code",
   "execution_count": 15,
   "id": "b65e3256",
   "metadata": {},
   "outputs": [
    {
     "name": "stdout",
     "output_type": "stream",
     "text": [
      "\n",
      "Generated Answer:\n",
      "Based on the provided financial information, the operating income for the Industrial segment in 2015 is not directly specified in the context. The operating income numbers are given for the Health Care and Consumer segments in 2015, but not for the Industrial segment. I don't have the specific operating income amount for the Industrial segment in 2015.\n"
     ]
    }
   ],
   "source": [
    "# Query example\n",
    "question = \"How much money as operating income (in USD) did 3M make in the industrial segment in the year 2015?\"\n",
    "relevant_chunks = query_documents(question, n_results=5)\n",
    "answer = generate_response(question, relevant_chunks)\n",
    "\n",
    "print(\"\\nGenerated Answer:\")\n",
    "print(answer)\n"
   ]
  },
  {
   "cell_type": "code",
   "execution_count": 8,
   "id": "5f2f6ec3",
   "metadata": {},
   "outputs": [
    {
     "name": "stdout",
     "output_type": "stream",
     "text": [
      "\n",
      "Generated Answer:\n",
      "3M expects to contribute approximately $100 million to $200 million of cash to its global defined benefit pension and postretirement plans in 2016.\n"
     ]
    }
   ],
   "source": [
    "# Query example\n",
    "question = \"How much money (in USD) does 3M expects to contribute to its global defined benefit pension and postretirement plans in 2016?\"\n",
    "relevant_chunks = query_documents(question, n_results=5)\n",
    "answer = generate_response(question, relevant_chunks)\n",
    "\n",
    "print(\"\\nGenerated Answer:\")\n",
    "print(answer)\n"
   ]
  },
  {
   "cell_type": "code",
   "execution_count": 9,
   "id": "57b2a7c3",
   "metadata": {},
   "outputs": [
    {
     "name": "stdout",
     "output_type": "stream",
     "text": [
      "\n",
      "Generated Answer:\n",
      "In 2015, the cost of sales as a percentage of net sales was 50.9%.\n"
     ]
    }
   ],
   "source": [
    "# Query example\n",
    "question = \"What was the value of \\\"sales cost\\\" as a percentage of net sales in 2015?\"\n",
    "relevant_chunks = query_documents(question, n_results=5)\n",
    "answer = generate_response(question, relevant_chunks)\n",
    "\n",
    "print(\"\\nGenerated Answer:\")\n",
    "print(answer)\n"
   ]
  },
  {
   "cell_type": "code",
   "execution_count": 10,
   "id": "5243a62c",
   "metadata": {},
   "outputs": [
    {
     "name": "stdout",
     "output_type": "stream",
     "text": [
      "\n",
      "Generated Answer:\n",
      "The selling, general and administrative expenses (SG&A) as a percentage of net sales in 2015 was 20.4%.\n"
     ]
    }
   ],
   "source": [
    "# Query example\n",
    "question = \"What was the value of \\\"selling, general and administrative expenses\\\" as a percentage of net sales in 2015?\"\n",
    "relevant_chunks = query_documents(question, n_results=5)\n",
    "answer = generate_response(question, relevant_chunks)\n",
    "\n",
    "print(\"\\nGenerated Answer:\")\n",
    "print(answer)\n"
   ]
  },
  {
   "cell_type": "code",
   "execution_count": 11,
   "id": "fd3685ae",
   "metadata": {},
   "outputs": [
    {
     "name": "stdout",
     "output_type": "stream",
     "text": [
      "\n",
      "Generated Answer:\n",
      "Based on the information provided, in 2015, the operating expenses for 3M were $30,274 million, and the net sales were $31,821 million. To calculate the operating expenses as a percentage of net sales:\n",
      "\n",
      "Operating Expenses (2015): $30,274 million\n",
      "Net Sales (2015): $31,821 million\n",
      "\n",
      "Operating Expenses as a percentage of Net Sales in 2015:\n",
      "= (Operating Expenses / Net Sales) x 100\n",
      "= ($30,274 million / $31,821 million) x 100\n",
      "= 95.09%\n",
      "\n",
      "Regarding the total operating income value (in terms of percentage of net sales) for 2015:\n",
      "We do not have a direct mention of the total operating income value for 2015 as a percentage of net sales in the provided information.\n"
     ]
    }
   ],
   "source": [
    "# Query example\n",
    "question = \"What are the operating expenses (in terms of percentage of net sales) for 3M in the year 2015 also mention the total operating income value (in terms of percentage of net sales) during that same year. \"\n",
    "relevant_chunks = query_documents(question, n_results=5)\n",
    "answer = generate_response(question, relevant_chunks)\n",
    "\n",
    "print(\"\\nGenerated Answer:\")\n",
    "print(answer)\n"
   ]
  },
  {
   "cell_type": "code",
   "execution_count": 12,
   "id": "55d0d0b7",
   "metadata": {},
   "outputs": [
    {
     "name": "stdout",
     "output_type": "stream",
     "text": [
      "\n",
      "Generated Answer:\n",
      "The effective tax rate for 3M in the year 2015 was 29.1 percent.\n"
     ]
    }
   ],
   "source": [
    "# Query example\n",
    "question = \"What was the value of effective tax rate (in terms of percentage of pre-tax income) for 3M in the year 2015? \"\n",
    "relevant_chunks = query_documents(question, n_results=5)\n",
    "answer = generate_response(question, relevant_chunks)\n",
    "\n",
    "print(\"\\nGenerated Answer:\")\n",
    "print(answer)"
   ]
  },
  {
   "cell_type": "code",
   "execution_count": 13,
   "id": "ccf07639",
   "metadata": {},
   "outputs": [
    {
     "name": "stdout",
     "output_type": "stream",
     "text": [
      "\n",
      "Generated Answer:\n",
      "The value of net income attributable to Noncontrolling interests for 3M in the year 2015 is $8 million.\n"
     ]
    }
   ],
   "source": [
    "# Query example\n",
    "question = \" What is the value of net income attributable to Noncontrolling interests (in USD) for 3M in the year 2015? \"\n",
    "relevant_chunks = query_documents(question, n_results=5)\n",
    "answer = generate_response(question, relevant_chunks)\n",
    "\n",
    "print(\"\\nGenerated Answer:\")\n",
    "print(answer)"
   ]
  }
 ],
 "metadata": {
  "kernelspec": {
   "display_name": "rag_env",
   "language": "python",
   "name": "python3"
  },
  "language_info": {
   "codemirror_mode": {
    "name": "ipython",
    "version": 3
   },
   "file_extension": ".py",
   "mimetype": "text/x-python",
   "name": "python",
   "nbconvert_exporter": "python",
   "pygments_lexer": "ipython3",
   "version": "3.10.11"
  }
 },
 "nbformat": 4,
 "nbformat_minor": 5
}

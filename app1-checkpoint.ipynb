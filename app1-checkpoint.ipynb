{
 "cells": [
  {
   "cell_type": "code",
   "execution_count": 27,
   "id": "254e4920",
   "metadata": {},
   "outputs": [],
   "source": [
    "import os\n",
    "from multiprocessing import Pool, cpu_count\n",
    "from dotenv import load_dotenv\n",
    "import fitz  # PyMuPDF\n",
    "import pymupdf4llm  # PyMuPDF helper for Markdown\n",
    "from langchain.text_splitter import MarkdownTextSplitter\n",
    "import chromadb\n",
    "from chromadb.utils import embedding_functions\n",
    "from openai import OpenAI\n",
    "\n",
    "# Load environment variables\n",
    "load_dotenv()\n",
    "openai_key = os.getenv(\"OPENAI_API_KEY\")\n",
    "if not openai_key:\n",
    "    raise ValueError(\"OPENAI_API_KEY not found in .env file\")\n",
    "\n",
    "# Initialize ChromaDB\n",
    "openai_ef = embedding_functions.OpenAIEmbeddingFunction(\n",
    "    api_key=openai_key, model_name=\"text-embedding-ada-002\"\n",
    ")\n",
    "chroma_client = chromadb.PersistentClient(path=\"chroma_persistent_storage\")\n",
    "collection_name = \"document_qa_collection\"\n",
    "\n",
    "# Reset the collection to avoid clutter\n",
    "if collection_name in chroma_client.list_collections():\n",
    "    chroma_client.delete_collection(name=collection_name)\n",
    "\n",
    "collection = chroma_client.get_or_create_collection(\n",
    "    name=collection_name, embedding_function=openai_ef\n",
    ")\n",
    "\n",
    "client = OpenAI(api_key=openai_key)\n",
    "\n",
    "# Helper function to extract text and tables using PyMuPDF Markdown\n",
    "def extract_text_from_pdf(file_path):\n",
    "    try:\n",
    "        # Convert PDF to Markdown\n",
    "        md_text = pymupdf4llm.to_markdown(file_path)\n",
    "        return md_text\n",
    "    except Exception as e:\n",
    "        print(f\"[PyMuPDF Markdown Error] {file_path}: {e}\")\n",
    "        return \"\"\n",
    "\n",
    "# Function to split text into chunks\n",
    "def chunk_text(text, chunk_size=500, chunk_overlap=100):\n",
    "    splitter = MarkdownTextSplitter(chunk_size=chunk_size, chunk_overlap=chunk_overlap)\n",
    "    return splitter.split_text(text)\n"
   ]
  },
  {
   "cell_type": "code",
   "execution_count": null,
   "id": "777a45b2",
   "metadata": {},
   "outputs": [
    {
     "name": "stdout",
     "output_type": "stream",
     "text": [
      "Found 9 PDF files.\n"
     ]
    }
   ],
   "source": [
    "# Function to process and chunk a single document\n",
    "def process_document(file_path):\n",
    "    print(f\"Processing: {file_path}\")\n",
    "    md_text = extract_text_from_pdf(file_path)\n",
    "    chunks = chunk_text(md_text)\n",
    "    return {\"id\": os.path.basename(file_path), \"chunks\": chunks}\n",
    "\n",
    "# Function to generate embeddings for chunks and store them in ChromaDB\n",
    "def generate_and_store_embeddings(doc):\n",
    "    for i, chunk in enumerate(doc[\"chunks\"]):\n",
    "        embedding = client.embeddings.create(input=chunk, model=\"text-embedding-ada-002\").data[0].embedding\n",
    "        collection.upsert(\n",
    "            ids=[f\"{doc['id']}_chunk{i}\"],\n",
    "            documents=[chunk],\n",
    "            embeddings=[embedding],\n",
    "        )\n",
    "\n",
    "# Process all PDF files with multiprocessing\n",
    "def process_all_pdfs(directory_path):\n",
    "    pdf_files = [os.path.join(directory_path, f) for f in os.listdir(directory_path) if f.endswith(\".pdf\")]\n",
    "    print(f\"Found {len(pdf_files)} PDF files.\")\n",
    "\n",
    "    # Parallelize document processing\n",
    "    with Pool(cpu_count()) as pool:\n",
    "        documents = pool.map(process_document, pdf_files)\n",
    "\n",
    "    # Parallelize embedding generation\n",
    "    with Pool(cpu_count()) as pool:\n",
    "        pool.map(generate_and_store_embeddings, documents)\n",
    "\n",
    "    print(\"Embeddings created for all documents!\")\n",
    "\n",
    "# Directory containing the PDFs\n",
    "directory_path = \"../pdfs1\"\n",
    "process_all_pdfs(directory_path)\n"
   ]
  },
  {
   "cell_type": "code",
   "execution_count": 3,
   "id": "57cc57eb",
   "metadata": {},
   "outputs": [],
   "source": [
    "# Function to query ChromaDB for relevant chunks\n",
    "def query_documents(question, n_results=5):\n",
    "    results = collection.query(query_texts=[question], n_results=n_results)\n",
    "    retrieved_chunks = list(set(results[\"documents\"][0]))  # Deduplicate chunks\n",
    "    return retrieved_chunks\n",
    "\n",
    "# Function to generate a response from the retrieved chunks\n",
    "def generate_response(question, relevant_chunks):\n",
    "    context = \"\\n\\n\".join(relevant_chunks)\n",
    "    prompt = (\n",
    "        \"You are a financial assistant. Use the following context to answer the question. \"\n",
    "        \"If the answer is unclear, say 'I don't know.'\\n\\n\"\n",
    "        f\"Context:\\n{context}\\n\\nQuestion: {question}\"\n",
    "    )\n",
    "    response = client.chat.completions.create(\n",
    "        model=\"gpt-3.5-turbo\",\n",
    "        messages=[\n",
    "            {\"role\": \"system\", \"content\": prompt},\n",
    "            {\"role\": \"user\", \"content\": question},\n",
    "        ],\n",
    "    )\n",
    "    return response.choices[0].message.content\n"
   ]
  },
  {
   "cell_type": "code",
   "execution_count": 16,
   "id": "c53216c0",
   "metadata": {},
   "outputs": [
    {
     "name": "stdout",
     "output_type": "stream",
     "text": [
      "\n",
      "Generated Answer:\n",
      "3M's net sales in 2015 were $30,274 million. Comparing this to 2014:\n",
      "- Industrial segment: Net sales decreased from $7,686 million in 2014 to $7,578 million in 2015.\n",
      "- Safety and Graphics segment: There was a decrease in net sales from $7,712 million in 2014 to $7,298 million in 2015.\n",
      "- Health Care segment: Net sales decreased from $7,303 million in 2014 to $6,447 million in 2015.\n",
      "- Electronics and Energy segment: Net sales were not explicitly provided in the context given.\n"
     ]
    }
   ],
   "source": [
    "# Query example\n",
    "question = \"What were 3M's net sales in 2015, and how did they compare to 2014 across different business segments?\"\n",
    "relevant_chunks = query_documents(question, n_results=5)\n",
    "\n",
    "answer = generate_response(question, relevant_chunks)\n",
    "\n",
    "print(\"\\nGenerated Answer:\")\n",
    "print(answer)\n"
   ]
  },
  {
   "cell_type": "code",
   "execution_count": 17,
   "id": "2879352f",
   "metadata": {},
   "outputs": [
    {
     "name": "stdout",
     "output_type": "stream",
     "text": [
      "\n",
      "Generated Answer:\n",
      "In 2015, 3M's geographic sales performance breakdown based on organic local-currency sales growth was as follows:\n",
      "- The United States saw a decline of 2.1 percent.\n",
      "- Latin America/Canada experienced growth of 1.5 percent.\n",
      "- Asia Pacific had growth of 0.9 percent.\n",
      "- EMEA (Europe, Middle East, and Africa) had growth of 0.8 percent.\n",
      "\n",
      "The foreign currency exchange rate negatively impacted 3M's sales performance in 2015. Foreign currency translation reduced sales by 6.8 percent, which was significant and had a noticeable effect on the overall results.\n"
     ]
    }
   ],
   "source": [
    "# Query example\n",
    "question = \"What is the breakdown of 3M’s geographic sales performance in 2015, and how did the foreign currency exchange rate impact these results?\"\n",
    "relevant_chunks = query_documents(question, n_results=5)\n",
    "\n",
    "answer = generate_response(question, relevant_chunks)\n",
    "\n",
    "print(\"\\nGenerated Answer:\")\n",
    "print(answer)\n"
   ]
  },
  {
   "cell_type": "code",
   "execution_count": 18,
   "id": "2d1d1fbc",
   "metadata": {},
   "outputs": [
    {
     "name": "stdout",
     "output_type": "stream",
     "text": [
      "\n",
      "Generated Answer:\n",
      "The main drivers of sales growth in the Health Care business segment were organic local-currency sales growth in developing markets and sales growth in geographic regions such as Asia Pacific, Latin America/Canada, the United States, and EMEA.\n",
      "\n",
      "The acquisitions of Ivera Medical Corp. and Treo Solutions contributed to this growth by adding to the overall sales figures. Specifically, the acquisition of Ivera Medical Corp. in March 2015 and Treo Solutions LLC in April 2014 both provided sales growth related to their respective product offerings in the healthcare industry. Additionally, the acquisitions helped in expanding 3M's presence in the healthcare market by offering new products and services to healthcare payers and providers.\n"
     ]
    }
   ],
   "source": [
    "# Query example\n",
    "question = \"What were the main drivers of sales growth in the Health Care business segment, and how did the acquisitions of Ivera Medical Corp. and Treo Solutions contribute?\"\n",
    "relevant_chunks = query_documents(question, n_results=5)\n",
    "answer = generate_response(question, relevant_chunks)\n",
    "\n",
    "print(\"\\nGenerated Answer:\")\n",
    "print(answer)\n"
   ]
  },
  {
   "cell_type": "code",
   "execution_count": 19,
   "id": "0323b961",
   "metadata": {},
   "outputs": [
    {
     "name": "stdout",
     "output_type": "stream",
     "text": [
      "\n",
      "Generated Answer:\n",
      "Restructuring charges in the Industrial segment reduced operating income margins by 1.0 percentage points. The specific initiatives driving these charges in the Industrial segment were primarily employee-related costs amounting to $30 million and asset-related costs of $12 million, totaling $42 million.\n"
     ]
    }
   ],
   "source": [
    "# Query example\n",
    "question = \"How did restructuring charges impact operating income margins in the Industrial segment, and what were the specific initiatives driving these charges?\"\n",
    "relevant_chunks = query_documents(question, n_results=5)\n",
    "answer = generate_response(question, relevant_chunks)\n",
    "\n",
    "print(\"\\nGenerated Answer:\")\n",
    "print(answer)\n"
   ]
  },
  {
   "cell_type": "code",
   "execution_count": 20,
   "id": "b65e3256",
   "metadata": {},
   "outputs": [
    {
     "name": "stdout",
     "output_type": "stream",
     "text": [
      "\n",
      "Generated Answer:\n",
      "In 2015, 3M's total debt was $4.0 billion higher compared to 2014. The company's long-term debt as of December 31, 2015, was $1.8 billion. To calculate the percentage of long-term debt in 2015, you would divide the long-term debt by the total debt and multiply by 100:\n",
      "\n",
      "Long-term debt in 2015 = $1.8 billion\n",
      "Total debt in 2015 = $4.0 billion\n",
      "\n",
      "Percentage of long-term debt in 2015 = ($1.8 billion / $4.0 billion) * 100 = 45%\n",
      "\n",
      "As for managing its debt-to-equity ratio moving forward, 3M planned to continue its capital structure strategy, which involved purchasing its own stock and maintaining access to capital markets. This strategy was intended to help ensure that their debt levels were reasonable and in proportion to the total portfolio.\n"
     ]
    }
   ],
   "source": [
    "# Query example\n",
    "question = \"What percentage of 3M’s total debt was long-term in 2015, and how did the company plan to manage its debt-to-equity ratio moving forward?\"\n",
    "relevant_chunks = query_documents(question, n_results=5)\n",
    "answer = generate_response(question, relevant_chunks)\n",
    "\n",
    "print(\"\\nGenerated Answer:\")\n",
    "print(answer)\n"
   ]
  },
  {
   "cell_type": "code",
   "execution_count": 21,
   "id": "5f2f6ec3",
   "metadata": {},
   "outputs": [
    {
     "name": "stdout",
     "output_type": "stream",
     "text": [
      "\n",
      "Generated Answer:\n",
      "In 2015, key factors influencing 3M's pension obligations included the change in the method used to estimate the service and interest cost components of the net periodic pension and other postretirement benefit costs, the discontinuation of 3M Retiree Health Care Accounts for new hires as of January 1, 2016, and the re-measurement of the plan in the third quarter of 2015 resulting in a decrease to the projected benefit obligation liability of approximately $233 million. \n",
      "\n",
      "The discount rate change from 3 percent to 1.5 percent per year for eligible employees also impacted the projected benefit obligation by reducing it. This reduction in the discount rate led to a decrease in the present value of the future benefit payments, resulting in a lower projected benefit obligation for 3M's pension obligations.\n"
     ]
    }
   ],
   "source": [
    "# Query example\n",
    "question = \"What were the key factors influencing 3M's pension obligations in 2015, and how did the discount rate change affect the projected benefit obligation?\"\n",
    "relevant_chunks = query_documents(question, n_results=5)\n",
    "answer = generate_response(question, relevant_chunks)\n",
    "\n",
    "print(\"\\nGenerated Answer:\")\n",
    "print(answer)\n"
   ]
  },
  {
   "cell_type": "code",
   "execution_count": 22,
   "id": "57b2a7c3",
   "metadata": {},
   "outputs": [
    {
     "name": "stdout",
     "output_type": "stream",
     "text": [
      "\n",
      "Generated Answer:\n",
      "3M's research and development expenditure decreased from $1.770 billion in 2014 to $1.763 billion in 2015. Despite the decrease in overall expenditure, 3M continued to support its key growth initiatives in research and development. It appears that all of 3M's five business segments benefited from these investments as they all posted operating income margins of approximately 20 percent or more in 2014.\n"
     ]
    }
   ],
   "source": [
    "# Query example\n",
    "question = \"How did 3M's research and development expenditure in 2015 compare to 2014, and which segments benefited most from these investments?\"\n",
    "relevant_chunks = query_documents(question, n_results=5)\n",
    "answer = generate_response(question, relevant_chunks)\n",
    "\n",
    "print(\"\\nGenerated Answer:\")\n",
    "print(answer)\n"
   ]
  },
  {
   "cell_type": "code",
   "execution_count": 23,
   "id": "5243a62c",
   "metadata": {},
   "outputs": [
    {
     "name": "stdout",
     "output_type": "stream",
     "text": [
      "\n",
      "Generated Answer:\n",
      "In 2015, acquisitions and divestitures influenced 3M's Electronics and Energy segment as follows:\n",
      "- Acquisitions: 3M made acquisitions aligned with its strategic intent, which helped enhance its competitive advantage.\n",
      "- Divestitures: 3M completed the sale of its static control business in January 2015. This divestiture could have impacted the segment's overall performance.\n",
      "\n",
      "Operational impacts on income margins in the Electronics and Energy segment in 2015:\n",
      "- Operating income in the segment decreased by 1.1 percent to $1.1 billion in 2015.\n",
      "- Incremental investments related to business transformation and global ERP implementation impacted each of the five business segments' 2014 annual operating income margins by approximately 0.2 percentage points compared to 2013.\n",
      "\n",
      "Please note that specific details or exact percentages related to the acquisitions and divestitures' influence on the segment's financial performance are not provided in the provided context.\n"
     ]
    }
   ],
   "source": [
    "# Query example\n",
    "question = \"How did acquisitions and divestitures influence 3M's Electronics and Energy segment in 2015, and what were the operational impacts on income margins?\"\n",
    "relevant_chunks = query_documents(question, n_results=5)\n",
    "answer = generate_response(question, relevant_chunks)\n",
    "\n",
    "print(\"\\nGenerated Answer:\")\n",
    "print(answer)\n"
   ]
  },
  {
   "cell_type": "code",
   "execution_count": 24,
   "id": "fd3685ae",
   "metadata": {},
   "outputs": [
    {
     "name": "stdout",
     "output_type": "stream",
     "text": [
      "\n",
      "Generated Answer:\n",
      "In 2015, 3M employed several strategies to mitigate commodity price risks and manage raw material shortages. These strategies included:\n",
      "\n",
      "1. Negotiated supply contracts: 3M negotiated contracts with suppliers to secure the necessary raw materials at stable prices, reducing the impact of fluctuating commodity prices.\n",
      "\n",
      "2. Price protection agreements: 3M utilized price protection agreements to safeguard against sudden price increases in commodities, providing stability in its raw material costs.\n",
      "\n",
      "3. Forward contracts: By entering into forward contracts, 3M locked in future prices for raw materials, helping to manage price risks and ensure a stable supply of materials for production.\n",
      "\n",
      "4. Careful management of existing raw material inventories: 3M maintained efficient inventory levels of raw materials to buffer against potential shortages, ensuring uninterrupted manufacturing operations.\n",
      "\n",
      "5. Development and qualification of additional supply sources: 3M worked towards diversifying its sources of raw materials, qualifying new suppliers to expand its supplier base and reduce dependence on a single source.\n",
      "\n",
      "These strategies collectively enabled 3M to effectively navigate commodity price fluctuations and mitigate risks associated with raw material shortages in 2015.\n"
     ]
    }
   ],
   "source": [
    "# Query example\n",
    "question = \"What strategies did 3M employ to mitigate commodity price risks and manage raw material shortages in 2015?\"\n",
    "relevant_chunks = query_documents(question, n_results=5)\n",
    "answer = generate_response(question, relevant_chunks)\n",
    "\n",
    "print(\"\\nGenerated Answer:\")\n",
    "print(answer)\n"
   ]
  },
  {
   "cell_type": "code",
   "execution_count": 25,
   "id": "55d0d0b7",
   "metadata": {},
   "outputs": [
    {
     "name": "stdout",
     "output_type": "stream",
     "text": [
      "\n",
      "Generated Answer:\n",
      "3M's share repurchase program in 2015 resulted in the authorization of up to $10 billion for the repurchase of its outstanding common stock. This would have decreased the number of outstanding shares, potentially leading to an increase in earnings per share. By reducing the number of shares available in the market, the repurchase could have a positive impact on the stock price and contribute to long-term shareholder value. Additionally, by utilizing excess cash to buy back shares, the company could signal confidence in its performance and generate returns for shareholders through increased stock value.\n"
     ]
    }
   ],
   "source": [
    "# Query example\n",
    "question = \"How did 3M’s share repurchase program affect its financial condition in 2015, and what were the long-term implications for shareholder value?\"\n",
    "relevant_chunks = query_documents(question, n_results=5)\n",
    "answer = generate_response(question, relevant_chunks)\n",
    "\n",
    "print(\"\\nGenerated Answer:\")\n",
    "print(answer)"
   ]
  }
 ],
 "metadata": {
  "kernelspec": {
   "display_name": "rag_env",
   "language": "python",
   "name": "python3"
  },
  "language_info": {
   "codemirror_mode": {
    "name": "ipython",
    "version": 3
   },
   "file_extension": ".py",
   "mimetype": "text/x-python",
   "name": "python",
   "nbconvert_exporter": "python",
   "pygments_lexer": "ipython3",
   "version": "3.10.11"
  }
 },
 "nbformat": 4,
 "nbformat_minor": 5
}

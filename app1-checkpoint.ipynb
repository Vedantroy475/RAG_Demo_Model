{
 "cells": [
  {
   "cell_type": "code",
   "execution_count": 26,
   "id": "254e4920",
   "metadata": {},
   "outputs": [
    {
     "name": "stdout",
     "output_type": "stream",
     "text": [
      "Embedding model loaded successfully!\n"
     ]
    }
   ],
   "source": [
    "import os\n",
    "from concurrent.futures import ThreadPoolExecutor, as_completed\n",
    "from tqdm import tqdm\n",
    "import fitz  # PyMuPDF\n",
    "import pytesseract\n",
    "import pdfplumber\n",
    "from langchain.text_splitter import RecursiveCharacterTextSplitter\n",
    "from sentence_transformers import SentenceTransformer\n",
    "import lancedb\n",
    "import pyarrow as pa\n",
    "import numpy as np\n",
    "\n",
    "# Initialize the embedding model\n",
    "embedding_model = SentenceTransformer(\"sentence-transformers/all-mpnet-base-v2\")\n",
    "print(\"Embedding model loaded successfully!\")\n",
    "\n",
    "# Initialize LanceDB\n",
    "db = lancedb.connect(\"./lancedb_vectors\")\n",
    "schema = pa.schema([\n",
    "    (\"id\", pa.string()),\n",
    "    (\"text\", pa.string()),\n",
    "    (\"embedding\", pa.list_(pa.float32(), list_size=768)),\n",
    "])\n",
    "if \"document_chunks\" in db.table_names():\n",
    "    table = db.open_table(\"document_chunks\")\n",
    "else:\n",
    "    table = db.create_table(\"document_chunks\", schema=schema, mode=\"overwrite\")\n",
    "    print(\"Table 'document_chunks' created successfully!\")\n",
    "\n",
    "# Text extraction function\n",
    "def extract_text_from_pdf(file_path):\n",
    "    text = \"\"\n",
    "    try:\n",
    "        with pdfplumber.open(file_path) as pdf:\n",
    "            for page in pdf.pages:\n",
    "                text += page.extract_text() or \"\"\n",
    "    except Exception as e:\n",
    "        print(f\"[PDFPlumber Error] {file_path}: {e}\")\n",
    "    if not text.strip():\n",
    "        try:\n",
    "            text = pytesseract.image_to_string(file_path)\n",
    "        except Exception as e:\n",
    "            print(f\"[OCR Error] {file_path}: {e}\")\n",
    "    return text\n"
   ]
  },
  {
   "cell_type": "code",
   "execution_count": 27,
   "id": "777a45b2",
   "metadata": {},
   "outputs": [
    {
     "name": "stderr",
     "output_type": "stream",
     "text": [
      "100%|██████████| 9/9 [22:45<00:00, 151.68s/it]  \n"
     ]
    }
   ],
   "source": [
    "# Chunking function with dynamic size\n",
    "def chunk_text_dynamic(text, chunk_size=800, chunk_overlap=200):\n",
    "    splitter = RecursiveCharacterTextSplitter(chunk_size=chunk_size, chunk_overlap=chunk_overlap)\n",
    "    return splitter.split_text(text)\n",
    "\n",
    "# Process a single document\n",
    "def process_document(file_path):\n",
    "    text = extract_text_from_pdf(file_path)\n",
    "    if not text.strip():\n",
    "        return {\"id\": os.path.basename(file_path), \"chunks\": []}\n",
    "    chunks = chunk_text_dynamic(text)\n",
    "    return {\"id\": os.path.basename(file_path), \"chunks\": chunks}\n",
    "\n",
    "# Generate and store embeddings in LanceDB\n",
    "def generate_embeddings_for_chunks(doc):\n",
    "    chunk_texts = doc[\"chunks\"]\n",
    "    embeddings = embedding_model.encode(chunk_texts, batch_size=32)\n",
    "    records = [{\"id\": f\"{doc['id']}_chunk{i}\", \"text\": chunk_texts[i], \"embedding\": embeddings[i].tolist()} for i in range(len(chunk_texts))]\n",
    "    table.add(records)\n",
    "\n",
    "# Process and embed all PDFs in a directory\n",
    "def process_pdfs(directory):\n",
    "    pdf_files = [os.path.join(directory, f) for f in os.listdir(directory) if f.endswith(\".pdf\")]\n",
    "    with ThreadPoolExecutor() as executor:\n",
    "        futures = [executor.submit(process_document, file) for file in pdf_files]\n",
    "        for future in tqdm(as_completed(futures), total=len(futures)):\n",
    "            doc = future.result()\n",
    "            if doc[\"chunks\"]:\n",
    "                generate_embeddings_for_chunks(doc)\n",
    "\n",
    "# Specify the directory containing PDF files\n",
    "directory_path = \"../pdfs1\"\n",
    "process_pdfs(directory_path)\n"
   ]
  },
  {
   "cell_type": "code",
   "execution_count": 28,
   "id": "57cc57eb",
   "metadata": {},
   "outputs": [],
   "source": [
    "import openai\n",
    "from dotenv import load_dotenv\n",
    "\n",
    "# Load environment variables from .env file\n",
    "load_dotenv()\n",
    "openai_api_key = os.getenv(\"OPENAI_API_KEY\")\n",
    "client = openai.OpenAI(api_key=openai_api_key)\n",
    "\n",
    "# Query LanceDB for relevant chunks\n",
    "def query_documents(question, top_k=10):\n",
    "    question_embedding = embedding_model.encode([question])[0].tolist()\n",
    "    results = table.search(question_embedding, vector_column_name=\"embedding\").limit(top_k).to_pandas()\n",
    "    return results[\"text\"].tolist()\n",
    "\n",
    "# Deduplicate and rank chunks\n",
    "def deduplicate_and_rank_chunks(query, chunks):\n",
    "    unique_chunks = list(set(chunks))  # Remove duplicates\n",
    "    query_embedding = embedding_model.encode([query])[0]\n",
    "    chunk_embeddings = embedding_model.encode(unique_chunks)\n",
    "    scores = np.dot(chunk_embeddings, query_embedding)\n",
    "    ranked_indices = np.argsort(scores)[::-1]  # Rank by similarity\n",
    "    return [unique_chunks[i] for i in ranked_indices]\n",
    "\n",
    "# Generate a response using OpenAI Chat API\n",
    "def generate_response(question, chunks):\n",
    "    context = \"\\n\\n\".join(chunks)\n",
    "    if not context.strip():\n",
    "        return \"No relevant context found.\"\n",
    "\n",
    "    instructions = (\n",
    "        \"You are a highly skilled financial analyst specializing in corporate financial reports, \"\n",
    "        \"including 10-K filings. Your role is to provide precise, concise, and well-structured answers \"\n",
    "        \"to questions based on the provided context. Only use the context provided to answer the questions. \"\n",
    "        \"If the context does not contain enough information, state that explicitly. Do not guess or infer beyond \"\n",
    "        \"the context. Present your answers in complete sentences and include key details where relevant.\"\n",
    "    )\n",
    "\n",
    "    try:\n",
    "        # Use OpenAI Chat API for generating the answer\n",
    "        response = client.chat.completions.create(\n",
    "            model=\"gpt-4\",\n",
    "            messages=[\n",
    "                {\"role\": \"system\", \"content\": instructions},\n",
    "                {\"role\": \"user\", \"content\": f\"Context: {context}\\n\\nQuestion: {question}\"},\n",
    "            ],\n",
    "        )\n",
    "        # Access response fields properly\n",
    "        return response.choices[0].message.content\n",
    "    except openai.APIError as e:\n",
    "        return f\"Error generating response: {e}\"\n",
    "\n",
    "\n"
   ]
  },
  {
   "cell_type": "code",
   "execution_count": 29,
   "id": "c53216c0",
   "metadata": {},
   "outputs": [
    {
     "name": "stdout",
     "output_type": "stream",
     "text": [
      "In 2015, 3M's net sales were $30.274 billion and the operating income was $6.946 billion. Compared to 2014, the net sales decreased from $31.821 billion and the operating income also decreased from $7.135 billion.\n"
     ]
    }
   ],
   "source": [
    "# Example query\n",
    "question = \"What were 3M's net sales and operating income for 2015, and how did they change compared to 2014?\"\n",
    "chunks = query_documents(question, top_k=15)\n",
    "deduplicated_chunks = deduplicate_and_rank_chunks(question, chunks)\n",
    "print(generate_response(question, deduplicated_chunks))"
   ]
  },
  {
   "cell_type": "code",
   "execution_count": 30,
   "id": "2879352f",
   "metadata": {},
   "outputs": [
    {
     "name": "stdout",
     "output_type": "stream",
     "text": [
      "The context does not provide specific information on 3M's geographic sales performance in the Asia-Pacific and EMEA regions for the year 2020.\n"
     ]
    }
   ],
   "source": [
    "# Example query\n",
    "question = \"How did 3M's geographic sales performance differ between Asia-Pacific and EMEA regions in 2020?\"\n",
    "chunks = query_documents(question, top_k=15)\n",
    "deduplicated_chunks = deduplicate_and_rank_chunks(question, chunks)\n",
    "print(generate_response(question, deduplicated_chunks))"
   ]
  },
  {
   "cell_type": "code",
   "execution_count": 31,
   "id": "2d1d1fbc",
   "metadata": {},
   "outputs": [
    {
     "name": "stdout",
     "output_type": "stream",
     "text": [
      "The key drivers of growth in 3M’s healthcare segment in 2017 were sales increases across all businesses, most notably in drug delivery systems, food safety, and medical consumables. \n",
      "\n",
      "In 2021, the key growth drivers included a higher year-on-year rate of dental procedures, continued high demand for biopharma filtration solutions for COVID-related vaccine and therapeutic development, an increase in elective procedure volumes in the first six months of the year, and an improvement in hospital information technology investments.\n"
     ]
    }
   ],
   "source": [
    "# Example query\n",
    "question = \"What were the key drivers of growth in 3M’s healthcare segment in 2017 and 2021?\"\n",
    "chunks = query_documents(question, top_k=15)\n",
    "deduplicated_chunks = deduplicate_and_rank_chunks(question, chunks)\n",
    "print(generate_response(question, deduplicated_chunks))"
   ]
  },
  {
   "cell_type": "code",
   "execution_count": 32,
   "id": "0323b961",
   "metadata": {},
   "outputs": [
    {
     "name": "stdout",
     "output_type": "stream",
     "text": [
      "The context provided does not contain information about any restructuring actions taken by 3M in 2016 or their impact on operational margins.\n"
     ]
    }
   ],
   "source": [
    "# Example query\n",
    "question = \"What restructuring actions did 3M take in 2016, and how did these impact operational margins?\"\n",
    "chunks = query_documents(question, top_k=15)\n",
    "deduplicated_chunks = deduplicate_and_rank_chunks(question, chunks)\n",
    "print(generate_response(question, deduplicated_chunks))"
   ]
  },
  {
   "cell_type": "code",
   "execution_count": 33,
   "id": "b65e3256",
   "metadata": {},
   "outputs": [
    {
     "name": "stdout",
     "output_type": "stream",
     "text": [
      "Based on the context, in 2021, 3M experienced net raw material price inflation. Although the effects on profitability are not explicitly stated, this inflation was likely to increase costs, potentially impacting profitability.\n",
      "\n",
      "To mitigate the impact of raw material inflation, 3M deployed several strategies. This included the execution of productivity projects aimed to minimize the impact of inflation and market supply challenges. These projects encompassed input management, reformulations, and multi-sourcing activities. The company also managed existing raw material inventories carefully, established strategic relationships with key suppliers, and qualified additional supply sources to handle potential disruptions in its manufacturing operations. However, the exact effect of these strategies on the company's profitability is not provided in the context.\n"
     ]
    }
   ],
   "source": [
    "# Example query\n",
    "question = \"How did 3M's raw material price inflation impact profitability in 2021, and what strategies did the company use to mitigate this?\"\n",
    "chunks = query_documents(question, top_k=15)\n",
    "deduplicated_chunks = deduplicate_and_rank_chunks(question, chunks)\n",
    "print(generate_response(question, deduplicated_chunks))"
   ]
  },
  {
   "cell_type": "code",
   "execution_count": 34,
   "id": "5f2f6ec3",
   "metadata": {},
   "outputs": [
    {
     "name": "stdout",
     "output_type": "stream",
     "text": [
      "The context provided does not contain information about any acquisitions made by 3M in 2019 and 2020 that would have strengthened its safety and industrial segment.\n"
     ]
    }
   ],
   "source": [
    "# Example query\n",
    "question = \"What acquisitions in 2019 and 2020 strengthened 3M's safety and industrial segment?\"\n",
    "chunks = query_documents(question, top_k=15)\n",
    "deduplicated_chunks = deduplicate_and_rank_chunks(question, chunks)\n",
    "print(generate_response(question, deduplicated_chunks))"
   ]
  },
  {
   "cell_type": "code",
   "execution_count": 35,
   "id": "04a8f2f3",
   "metadata": {},
   "outputs": [
    {
     "name": "stdout",
     "output_type": "stream",
     "text": [
      "3M's debt structure underwent several significant changes both in total debt and net debt from 2015 to 2022. \n",
      "\n",
      "1. Total Debt: In 2015, the total debt was $10.797 billion. This increased in 2016 to $11.650 billion. By 2019, total debt had increased significantly to approximately $5.7 billion higher than it was at the end of 2018. The total debt further increased in 2020 due to issuance of $1.75 billion in registered notes. By 2021, the total debt decreased due to the March 2021 early redemption of $450 million in debt and the November 2021 repayment of 600 million euros of Eurobonds. In 2022, the total debt stood at $15.939 billion, marking a reduction of $1.424 billion from 2021.\n",
      "\n",
      "2. Net Debt: The net debt was valued at $8.872 billion in 2015. The net debt slightly rose in 2016 to $8.955 billion. There is no specific information provided for the net debt in 2019 and 2020. In 2021, the net debt stood at $12.571 billion and by 2022, had decreased to $12.023 billion which signifies a reduction of $548 million in net debt.\n",
      "\n",
      "3. Cash, Cash Equivalents, and Marketable Securities: In 2015, cash and cash equivalents, and marketable securities were valued at $1.925 billion, which then increased to $2.695 billion in 2016. By 2022, these assets reduced to $3.916 billion, a decrease of $876 million from 2021.\n",
      "\n",
      "4. Commercial Paper: There was no outstanding commercial paper at 2020 and 2021, as compared to $150 million at the end of 2019. \n",
      "\n",
      "Note that the company used various strategies during this period, include issuance and redemption of notes, repayments, and altering its holdings of cash, cash equivalents, and marketable securities. The strategies were part of its capital structure strategy aimed to balance its debt levels.\n",
      "\n"
     ]
    }
   ],
   "source": [
    "# Example query\n",
    "question = \"What were the significant changes in 3M's debt structure between 2015 and 2022?\"\n",
    "chunks = query_documents(question, top_k=15)\n",
    "deduplicated_chunks = deduplicate_and_rank_chunks(question, chunks)\n",
    "print(generate_response(question, deduplicated_chunks))"
   ]
  },
  {
   "cell_type": "code",
   "execution_count": 36,
   "id": "57b2a7c3",
   "metadata": {},
   "outputs": [
    {
     "name": "stdout",
     "output_type": "stream",
     "text": [
      "The context does not provide specific information on how the spin-off of the Health Care segment in 2022 impacted the company’s financial planning.\n"
     ]
    }
   ],
   "source": [
    "# Example query\n",
    "question = \"How did the spin-off of the Health Care segment in 2022 impact the company’s financial planning?\"\n",
    "chunks = query_documents(question, top_k=15)\n",
    "deduplicated_chunks = deduplicate_and_rank_chunks(question, chunks)\n",
    "print(generate_response(question, deduplicated_chunks))"
   ]
  },
  {
   "cell_type": "code",
   "execution_count": 37,
   "id": "5243a62c",
   "metadata": {},
   "outputs": [
    {
     "name": "stdout",
     "output_type": "stream",
     "text": [
      "Based on the provided context, in 2020, 3M expended approximately $55 million on capital projects for environmental purposes. These projects include waste reduction and pollution control programs, water usage reduction and water quality improvement equipment, scrubbers, containment structures, solvent recovery units, and thermal oxidizers. For 2021, it is estimated that capital expenditures for similar environmental projects would be part of an aggregate expenditure of approximately $400 million planned for 2021 and 2022. However, the exact methodology or breakdown of 3M's environmental investments in 2021 is not provided in the context.\n"
     ]
    }
   ],
   "source": [
    "# Example query\n",
    "question = \"What role did 3M's environmental investments play in 2020 and 2021?\"\n",
    "chunks = query_documents(question, top_k=15)\n",
    "deduplicated_chunks = deduplicate_and_rank_chunks(question, chunks)\n",
    "print(generate_response(question, deduplicated_chunks))"
   ]
  },
  {
   "cell_type": "code",
   "execution_count": 38,
   "id": "5ab0933e",
   "metadata": {},
   "outputs": [
    {
     "name": "stdout",
     "output_type": "stream",
     "text": [
      "The context provided does not contain specific information on how 3M’s Consumer Business adapted during the COVID-19 pandemic.\n"
     ]
    }
   ],
   "source": [
    "# Example query\n",
    "question = \"How did 3M’s Consumer Business adapt during the COVID-19 pandemic?\"\n",
    "chunks = query_documents(question, top_k=15)\n",
    "deduplicated_chunks = deduplicate_and_rank_chunks(question, chunks)\n",
    "print(generate_response(question, deduplicated_chunks))"
   ]
  },
  {
   "cell_type": "code",
   "execution_count": 39,
   "id": "d7db5514",
   "metadata": {},
   "outputs": [
    {
     "name": "stdout",
     "output_type": "stream",
     "text": [
      "The context provided mentions that 3M's Research and Development (R&D) expenditure was $1.821 billion in 2018. However, there is no information provided in the text regarding R&D expenditure for 2020. The R&D expenditure for 2018 contributed to 3M's continued investment in key initiatives, including R&D aimed at disruptive innovation programs with the potential to create new markets and disrupt existing ones. No specific impact on product innovation for the year 2018 was given in the context. The context also does not provide information pertaining to the impact of R&D expenditure on product innovation in 2020.\n"
     ]
    }
   ],
   "source": [
    "# Example query\n",
    "question = \"What was 3M's R&D expenditure in 2018 and 2020, and how did it impact product innovation?\"\n",
    "chunks = query_documents(question, top_k=15)\n",
    "deduplicated_chunks = deduplicate_and_rank_chunks(question, chunks)\n",
    "print(generate_response(question, deduplicated_chunks))"
   ]
  },
  {
   "cell_type": "code",
   "execution_count": 40,
   "id": "aea141b6",
   "metadata": {},
   "outputs": [
    {
     "name": "stdout",
     "output_type": "stream",
     "text": [
      "The context provided does not offer any specific details on the strategic benefits of 3M's divestiture of its Food Safety business in 2022.\n"
     ]
    }
   ],
   "source": [
    "# Example query\n",
    "question = \"What were the strategic benefits of 3M's divestiture of its Food Safety business in 2022?\"\n",
    "chunks = query_documents(question, top_k=15)\n",
    "deduplicated_chunks = deduplicate_and_rank_chunks(question, chunks)\n",
    "print(generate_response(question, deduplicated_chunks))"
   ]
  },
  {
   "cell_type": "code",
   "execution_count": 41,
   "id": "46fd96bf",
   "metadata": {},
   "outputs": [
    {
     "name": "stdout",
     "output_type": "stream",
     "text": [
      "The context does not provide specific information on how 3M addressed workforce challenges and diversity in 2020 and 2021.\n"
     ]
    }
   ],
   "source": [
    "# Example query\n",
    "question = \"How did 3M address workforce challenges and diversity in 2020 and 2021?\"\n",
    "chunks = query_documents(question, top_k=15)\n",
    "deduplicated_chunks = deduplicate_and_rank_chunks(question, chunks)\n",
    "print(generate_response(question, deduplicated_chunks))"
   ]
  },
  {
   "cell_type": "code",
   "execution_count": 42,
   "id": "6587660e",
   "metadata": {},
   "outputs": [
    {
     "name": "stdout",
     "output_type": "stream",
     "text": [
      "The operating income for the Safety and Industrial segment showed differences between 2018 and 2020. In 2018, the operating income for the Safety and Industrial sector was $2,737 million. By contrast, in 2020 this had increased to $3,054 million. This represents a growth of approximately 11.6% over the two-year period.\n"
     ]
    }
   ],
   "source": [
    "# Example query\n",
    "question = \"What were the key differences in operating income for the Safety and Industrial segment between 2018 and 2020?\"\n",
    "chunks = query_documents(question, top_k=15)\n",
    "deduplicated_chunks = deduplicate_and_rank_chunks(question, chunks)\n",
    "print(generate_response(question, deduplicated_chunks))"
   ]
  },
  {
   "cell_type": "code",
   "execution_count": 43,
   "id": "c51fccd8",
   "metadata": {},
   "outputs": [
    {
     "name": "stdout",
     "output_type": "stream",
     "text": [
      "The context does not provide specific information on how 3M's acquisition of M*Modal in 2019 enhanced its health information systems.\n"
     ]
    }
   ],
   "source": [
    "# Example query\n",
    "question = \"How did 3M's acquisition of M*Modal in 2019 enhance its health information systems?\"\n",
    "chunks = query_documents(question, top_k=15)\n",
    "deduplicated_chunks = deduplicate_and_rank_chunks(question, chunks)\n",
    "print(generate_response(question, deduplicated_chunks))"
   ]
  },
  {
   "cell_type": "code",
   "execution_count": 44,
   "id": "0f6a0084",
   "metadata": {},
   "outputs": [
    {
     "name": "stdout",
     "output_type": "stream",
     "text": [
      "The context provided does not contain information on the measures that 3M took to manage supply chain disruptions in 2022.\n"
     ]
    }
   ],
   "source": [
    "# Example query\n",
    "question = \"What measures did 3M take to manage supply chain disruptions in 2022?\"\n",
    "chunks = query_documents(question, top_k=15)\n",
    "deduplicated_chunks = deduplicate_and_rank_chunks(question, chunks)\n",
    "print(generate_response(question, deduplicated_chunks))"
   ]
  },
  {
   "cell_type": "code",
   "execution_count": 45,
   "id": "461b1afa",
   "metadata": {},
   "outputs": [
    {
     "name": "stdout",
     "output_type": "stream",
     "text": [
      "In 2019, a stronger U.S. dollar negatively impacted sales. Even after applying the company's hedging strategy, the foreign currency effect was neutral to earnings compared to the previous year. However, the foreign currency translation resulted in an increase in year-on-year sales by 0.2 percent. The specific geographic effect is mentioned for Latin America/Canada, EMEA, and Asia Pacific areas where the translation-related sales increase in EMEA and Asia Pacific was partially offset by decreases in Latin America/Canada.\n",
      "\n",
      "In 2021, a weaker U.S. dollar had a positive impact on sales compared to the previous year. The foreign currency, net of the Company’s hedging strategy, positively impacted earnings compared to the same period last year. Specific geographic details related to currency fluctuation impacts in 2021 are not mentioned in the provided context.\n"
     ]
    }
   ],
   "source": [
    "# Example query\n",
    "question = \"How did currency fluctuations affect 3M’s geographic performance in 2019 and 2021?\"\n",
    "chunks = query_documents(question, top_k=15)\n",
    "deduplicated_chunks = deduplicate_and_rank_chunks(question, chunks)\n",
    "print(generate_response(question, deduplicated_chunks))"
   ]
  },
  {
   "cell_type": "code",
   "execution_count": 46,
   "id": "5ae712dd",
   "metadata": {},
   "outputs": [
    {
     "name": "stdout",
     "output_type": "stream",
     "text": [
      "The context provided does not include any specific information about the advances in renewable energy components that 3M achieved in 2020.\n"
     ]
    }
   ],
   "source": [
    "# Example query\n",
    "question = \"What advances in renewable energy components did 3M achieve in 2020?\"\n",
    "chunks = query_documents(question, top_k=15)\n",
    "deduplicated_chunks = deduplicate_and_rank_chunks(question, chunks)\n",
    "print(generate_response(question, deduplicated_chunks))"
   ]
  },
  {
   "cell_type": "code",
   "execution_count": 47,
   "id": "a6400c97",
   "metadata": {},
   "outputs": [
    {
     "name": "stdout",
     "output_type": "stream",
     "text": [
      "The context does not provide specific information on how 3M's Consumer segment utilized e-commerce channels in 2021.\n"
     ]
    }
   ],
   "source": [
    "# Example query\n",
    "question = \"How did 3M's Consumer segment utilize e-commerce channels in 2021?\"\n",
    "chunks = query_documents(question, top_k=23)\n",
    "deduplicated_chunks = deduplicate_and_rank_chunks(question, chunks)\n",
    "print(generate_response(question, deduplicated_chunks))"
   ]
  },
  {
   "cell_type": "code",
   "execution_count": 48,
   "id": "af22c5af",
   "metadata": {},
   "outputs": [
    {
     "name": "stdout",
     "output_type": "stream",
     "text": [
      "The context does not provide specific information on how 3M’s strategic focus on sustainability influenced its operations in 2022.\n"
     ]
    }
   ],
   "source": [
    "# Example query\n",
    "question = \"How did 3M’s strategic focus on sustainability influence its operations in 2022?\"\n",
    "chunks = query_documents(question, top_k=23)\n",
    "deduplicated_chunks = deduplicate_and_rank_chunks(question, chunks)\n",
    "print(generate_response(question, deduplicated_chunks))"
   ]
  }
 ],
 "metadata": {
  "kernelspec": {
   "display_name": "rag_env",
   "language": "python",
   "name": "python3"
  },
  "language_info": {
   "codemirror_mode": {
    "name": "ipython",
    "version": 3
   },
   "file_extension": ".py",
   "mimetype": "text/x-python",
   "name": "python",
   "nbconvert_exporter": "python",
   "pygments_lexer": "ipython3",
   "version": "3.10.11"
  }
 },
 "nbformat": 4,
 "nbformat_minor": 5
}
